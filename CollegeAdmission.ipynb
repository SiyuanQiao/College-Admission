{
  "nbformat": 4,
  "nbformat_minor": 0,
  "metadata": {
    "colab": {
      "name": "CollegeAdmission.ipynb",
      "provenance": [],
      "authorship_tag": "ABX9TyPpeJsLcDppSu2MWtUU5DSw",
      "include_colab_link": true
    },
    "kernelspec": {
      "name": "python3",
      "display_name": "Python 3"
    },
    "language_info": {
      "name": "python"
    }
  },
  "cells": [
    {
      "cell_type": "markdown",
      "metadata": {
        "id": "view-in-github",
        "colab_type": "text"
      },
      "source": [
        "<a href=\"https://colab.research.google.com/github/SiyuanQiao/College-Admission/blob/main/CollegeAdmission.ipynb\" target=\"_parent\"><img src=\"https://colab.research.google.com/assets/colab-badge.svg\" alt=\"Open In Colab\"/></a>"
      ]
    },
    {
      "cell_type": "code",
      "metadata": {
        "id": "3q4-PDs6Yrmc"
      },
      "source": [
        "import warnings\n",
        "warnings.filterwarnings('ignore')\n",
        "import numpy as np\n",
        "import pandas as pd\n",
        "import matplotlib.pyplot as plt\n",
        "import seaborn as sns\n",
        "import statsmodels.api as sm\n",
        "from sklearn.model_selection import train_test_split\n",
        "from sklearn.linear_model import LogisticRegression\n",
        "from sklearn.metrics import confusion_matrix\n",
        "from sklearn.metrics import classification_report\n",
        "from sklearn import metrics\n",
        "from sklearn.neighbors import KNeighborsClassifier\n",
        "from sklearn. model_selection import cross_val_score"
      ],
      "execution_count": 294,
      "outputs": []
    },
    {
      "cell_type": "code",
      "metadata": {
        "id": "ipc2dGPWYuEN"
      },
      "source": [
        "universitydata=pd.read_csv('/content/College Admission.csv')"
      ],
      "execution_count": 282,
      "outputs": []
    },
    {
      "cell_type": "code",
      "metadata": {
        "id": "qIEwNAXmY-Wd"
      },
      "source": [
        "universitydata"
      ],
      "execution_count": null,
      "outputs": []
    },
    {
      "cell_type": "code",
      "metadata": {
        "id": "rMCYIkd2ZB4E"
      },
      "source": [
        "universitydata.shape"
      ],
      "execution_count": null,
      "outputs": []
    },
    {
      "cell_type": "code",
      "metadata": {
        "id": "ClVTJLfiZRaR"
      },
      "source": [
        "universitydata.info()"
      ],
      "execution_count": null,
      "outputs": []
    },
    {
      "cell_type": "code",
      "metadata": {
        "id": "lbWbjAnuZW5c"
      },
      "source": [
        "universitydata.describe()"
      ],
      "execution_count": null,
      "outputs": []
    },
    {
      "cell_type": "code",
      "metadata": {
        "id": "SUQcLtjAmqM1"
      },
      "source": [
        "X= pd.DataFrame(universitydata.iloc[:,:-1])\n",
        "y= pd.DataFrame(universitydata.iloc[:,-1])"
      ],
      "execution_count": 265,
      "outputs": []
    },
    {
      "cell_type": "code",
      "metadata": {
        "id": "p3STszn3m7hi"
      },
      "source": [
        "X"
      ],
      "execution_count": null,
      "outputs": []
    },
    {
      "cell_type": "code",
      "metadata": {
        "id": "iyP1EIjjnREt"
      },
      "source": [
        "y"
      ],
      "execution_count": null,
      "outputs": []
    },
    {
      "cell_type": "code",
      "metadata": {
        "id": "ztBzRYdlnkgw"
      },
      "source": [
        "X_train, X_test, y_train, y_test = train_test_split(X, y, test_size= 0.2, random_state= 1)\n"
      ],
      "execution_count": 268,
      "outputs": []
    },
    {
      "cell_type": "code",
      "metadata": {
        "id": "lPRYlMqSnz4W"
      },
      "source": [
        "logmodel= LogisticRegression()"
      ],
      "execution_count": 270,
      "outputs": []
    },
    {
      "cell_type": "code",
      "metadata": {
        "id": "OgY3FZV9o0qr"
      },
      "source": [
        "logmodel.fit(X_train, y_train)"
      ],
      "execution_count": null,
      "outputs": []
    },
    {
      "cell_type": "code",
      "metadata": {
        "id": "lAUKTo-jo3TI"
      },
      "source": [
        "y_pred = logmodel.predict(X_test)\n",
        "confusion_matrix = confusion_matrix(y_test, y_pred)\n"
      ],
      "execution_count": 272,
      "outputs": []
    },
    {
      "cell_type": "code",
      "metadata": {
        "id": "aeEaUKO4qcdO"
      },
      "source": [
        "confusion_matrix"
      ],
      "execution_count": null,
      "outputs": []
    },
    {
      "cell_type": "code",
      "metadata": {
        "id": "MeTaXH3zqku5"
      },
      "source": [
        "print(classification_report(y_test, y_pred))"
      ],
      "execution_count": null,
      "outputs": []
    },
    {
      "cell_type": "code",
      "metadata": {
        "id": "Ms3-0gTF0BQC"
      },
      "source": [
        "X_train, X_test, y_train, y_test = train_test_split(X, y, random_state= 5)\n",
        "knnclassifier = KNeighborsClassifier(n_neighbors=5)\n",
        "knnclassifier.fit(X_train, y_train)\n",
        "y_pred = knnclassifier . predict(X_test)\n",
        "metrics. accuracy_score(y_test, y_pred)"
      ],
      "execution_count": null,
      "outputs": []
    },
    {
      "cell_type": "code",
      "metadata": {
        "id": "vvikg6D41Q4l"
      },
      "source": [
        "X_train"
      ],
      "execution_count": null,
      "outputs": []
    },
    {
      "cell_type": "code",
      "metadata": {
        "id": "Uol4tABW1aDe"
      },
      "source": [
        "knnclassifier = KNeighborsClassifier(n_neighbors= 4)\n",
        "print(cross_val_score(knnclassifier,X, y, cv= 10, scoring ='accuracy').mean())"
      ],
      "execution_count": null,
      "outputs": []
    },
    {
      "cell_type": "code",
      "metadata": {
        "colab": {
          "base_uri": "https://localhost:8080/"
        },
        "id": "cgU8-0H129_f",
        "outputId": "91c5a418-3fa7-4978-d01a-c1dd94ea1c2e"
      },
      "source": [
        "log1= LogisticRegression()\n",
        "print(cross_val_score(log1, X, y, cv= 10, scoring = 'accuracy').mean())"
      ],
      "execution_count": 299,
      "outputs": [
        {
          "output_type": "stream",
          "name": "stdout",
          "text": [
            "0.9733333333333334\n"
          ]
        }
      ]
    }
  ]
}