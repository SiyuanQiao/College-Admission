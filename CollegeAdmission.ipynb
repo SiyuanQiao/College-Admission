{
  "nbformat": 4,
  "nbformat_minor": 0,
  "metadata": {
    "colab": {
      "name": "CollegeAdmission.ipynb",
      "provenance": [],
      "authorship_tag": "ABX9TyNomAKQhldYoI6pxkIuizRb",
      "include_colab_link": true
    },
    "kernelspec": {
      "name": "python3",
      "display_name": "Python 3"
    },
    "language_info": {
      "name": "python"
    }
  },
  "cells": [
    {
      "cell_type": "markdown",
      "metadata": {
        "id": "view-in-github",
        "colab_type": "text"
      },
      "source": [
        "<a href=\"https://colab.research.google.com/github/SiyuanQiao/College-Admission/blob/main/CollegeAdmission.ipynb\" target=\"_parent\"><img src=\"https://colab.research.google.com/assets/colab-badge.svg\" alt=\"Open In Colab\"/></a>"
      ]
    },
    {
      "cell_type": "code",
      "metadata": {
        "id": "3q4-PDs6Yrmc"
      },
      "source": [
        "import warnings\n",
        "warnings.filterwarnings('ignore')\n",
        "import numpy as np\n",
        "import pandas as pd\n",
        "import matplotlib.pyplot as plt\n",
        "import seaborn as sns\n",
        "import statsmodels.api as sm\n",
        "from sklearn.model_selection import train_test_split"
      ],
      "execution_count": 29,
      "outputs": []
    },
    {
      "cell_type": "code",
      "metadata": {
        "id": "ipc2dGPWYuEN"
      },
      "source": [
        "universitydata=pd.read_csv('/content/College Admission.csv')"
      ],
      "execution_count": 4,
      "outputs": []
    },
    {
      "cell_type": "code",
      "metadata": {
        "id": "qIEwNAXmY-Wd"
      },
      "source": [
        "universitydata"
      ],
      "execution_count": null,
      "outputs": []
    },
    {
      "cell_type": "code",
      "metadata": {
        "id": "rMCYIkd2ZB4E"
      },
      "source": [
        "universitydata.shape"
      ],
      "execution_count": null,
      "outputs": []
    },
    {
      "cell_type": "code",
      "metadata": {
        "id": "ClVTJLfiZRaR"
      },
      "source": [
        "universitydata.info()"
      ],
      "execution_count": null,
      "outputs": []
    },
    {
      "cell_type": "code",
      "metadata": {
        "id": "lbWbjAnuZW5c"
      },
      "source": [
        "universitydata.describe()"
      ],
      "execution_count": null,
      "outputs": []
    },
    {
      "cell_type": "code",
      "metadata": {
        "id": "9POKLmRZZnED"
      },
      "source": [
        "sns.heatmap(universitydata.corr(), cmap=\"YlGnBu\", annot = True)\n",
        "plt.show()"
      ],
      "execution_count": null,
      "outputs": []
    },
    {
      "cell_type": "code",
      "metadata": {
        "id": "RxWEixvuehMh"
      },
      "source": [
        "X = universitydata['Dummy-Role']\n",
        "y = universitydata['Dummy-Stage']"
      ],
      "execution_count": 31,
      "outputs": []
    },
    {
      "cell_type": "code",
      "metadata": {
        "id": "CxMrOxH6eWaV"
      },
      "source": [
        "X_train, X_test, y_train, y_test = train_test_split(X, y, train_size = 0.7, \n",
        "                                                    test_size = 0.3, random_state = 100)"
      ],
      "execution_count": 32,
      "outputs": []
    },
    {
      "cell_type": "code",
      "metadata": {
        "id": "VKWKWflVe1h5"
      },
      "source": [
        "X_train\n",
        "y_train"
      ],
      "execution_count": null,
      "outputs": []
    },
    {
      "cell_type": "code",
      "metadata": {
        "id": "s64zfEIrfCnF"
      },
      "source": [
        "X_train_sm = sm.add_constant(X_train)"
      ],
      "execution_count": 34,
      "outputs": []
    },
    {
      "cell_type": "code",
      "metadata": {
        "id": "V-UWNJ_Se6CO"
      },
      "source": [
        "Xdata = sm.OLS(y_train, X_train_sm).fit()\n",
        "\n",
        "Xdata.params"
      ],
      "execution_count": null,
      "outputs": []
    },
    {
      "cell_type": "code",
      "metadata": {
        "id": "G-hu4ixmfNHa"
      },
      "source": [
        "Xdata.summary()"
      ],
      "execution_count": null,
      "outputs": []
    },
    {
      "cell_type": "code",
      "metadata": {
        "id": "rEuDj3D7hCq5"
      },
      "source": [
        "y_train_sm = sm.add_constant(y_train)"
      ],
      "execution_count": 20,
      "outputs": []
    },
    {
      "cell_type": "code",
      "metadata": {
        "id": "43kUPcbeg07d"
      },
      "source": [
        "Ydata = sm.OLS(X_train, y_train_sm).fit()\n",
        "\n",
        "Ydata.params"
      ],
      "execution_count": null,
      "outputs": []
    },
    {
      "cell_type": "code",
      "metadata": {
        "id": "PKPD6Mwlhbyf"
      },
      "source": [
        "Ydata.summary()"
      ],
      "execution_count": null,
      "outputs": []
    },
    {
      "cell_type": "code",
      "metadata": {
        "id": "PljDluRdincb"
      },
      "source": [
        "plt.scatter(X_train, y_train)\n",
        "plt.plot(X_train, 0.0006 + 0.9994*X_train, 'r')\n",
        "plt.show()"
      ],
      "execution_count": null,
      "outputs": []
    }
  ]
}